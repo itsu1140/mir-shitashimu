{
 "cells": [
  {
   "cell_type": "markdown",
   "metadata": {},
   "source": [
    "## ライブラリのインストール"
   ]
  },
  {
   "cell_type": "code",
   "execution_count": 1,
   "metadata": {
    "executionInfo": {
     "elapsed": 316,
     "status": "ok",
     "timestamp": 1737521371981,
     "user": {
      "displayName": "月東菜乃",
      "userId": "13908269299968527045"
     },
     "user_tz": -540
    },
    "id": "qS2tIDqjB1L_"
   },
   "outputs": [],
   "source": [
    "import librosa\n",
    "import matplotlib.pyplot as plt\n",
    "import numpy as np\n",
    "import soundfile as sf"
   ]
  },
  {
   "cell_type": "markdown",
   "metadata": {},
   "source": [
    "### 波形データの読み込みと表示"
   ]
  },
  {
   "cell_type": "code",
   "execution_count": 6,
   "metadata": {
    "colab": {
     "base_uri": "https://localhost:8080/"
    },
    "executionInfo": {
     "elapsed": 21502,
     "status": "ok",
     "timestamp": 1737521395006,
     "user": {
      "displayName": "月東菜乃",
      "userId": "13908269299968527045"
     },
     "user_tz": -540
    },
    "id": "wJ5dVNyXC8mV",
    "outputId": "6f58b1dd-1589-4e6e-e606-a1b1dafcf06c"
   },
   "outputs": [
    {
     "name": "stdout",
     "output_type": "stream",
     "text": [
      "(84928,) 22050\n"
     ]
    }
   ],
   "source": [
    "x, sr = librosa.load(\"data/piano_sample.wav\")\n",
    "print(x.shape, sr)  # data size, sampling rate"
   ]
  },
  {
   "cell_type": "code",
   "execution_count": null,
   "metadata": {
    "colab": {
     "base_uri": "https://localhost:8080/",
     "height": 449
    },
    "executionInfo": {
     "elapsed": 1185,
     "status": "ok",
     "timestamp": 1737521397943,
     "user": {
      "displayName": "月東菜乃",
      "userId": "13908269299968527045"
     },
     "user_tz": -540
    },
    "id": "SXMmyX8PDEcy",
    "outputId": "56771761-bda9-49df-81e0-af58e90c2197"
   },
   "outputs": [],
   "source": [
    "librosa.display.waveshow(x)\n",
    "plt.show()"
   ]
  },
  {
   "cell_type": "markdown",
   "metadata": {},
   "source": [
    "### 時間周波数解析"
   ]
  },
  {
   "cell_type": "code",
   "execution_count": null,
   "metadata": {
    "colab": {
     "base_uri": "https://localhost:8080/",
     "height": 449
    },
    "executionInfo": {
     "elapsed": 993,
     "status": "ok",
     "timestamp": 1737521400475,
     "user": {
      "displayName": "月東菜乃",
      "userId": "13908269299968527045"
     },
     "user_tz": -540
    },
    "id": "gGuWdr1eDOnl",
    "outputId": "7d59c442-cf1c-4363-ed6d-452291b6682c"
   },
   "outputs": [],
   "source": [
    "X = librosa.stft(x)\n",
    "Xdb = librosa.amplitude_to_db(abs(X))\n",
    "librosa.display.specshow(Xdb, sr=sr, x_axis=\"time\", y_axis=\"hz\")\n",
    "plt.show()"
   ]
  },
  {
   "cell_type": "markdown",
   "metadata": {},
   "source": [
    "### オンセットエンベロープを求める\n",
    "エンベロープ: 音が鳴り始めてから消えるまでの音量，音色の時間的変化を表す"
   ]
  },
  {
   "cell_type": "code",
   "execution_count": null,
   "metadata": {
    "colab": {
     "base_uri": "https://localhost:8080/",
     "height": 430
    },
    "executionInfo": {
     "elapsed": 2083,
     "status": "ok",
     "timestamp": 1737521652787,
     "user": {
      "displayName": "月東菜乃",
      "userId": "13908269299968527045"
     },
     "user_tz": -540
    },
    "id": "m9nyr9R_DaVz",
    "outputId": "7f603c81-f779-41ca-e2e5-c11c0b1de81a"
   },
   "outputs": [],
   "source": [
    "hop_length = 100\n",
    "onset_env = librosa.onset.onset_strength(y=x, sr=sr, hop_length=hop_length)\n",
    "plt.plot(onset_env)\n",
    "plt.xlim(0, len(onset_env))\n",
    "plt.show()"
   ]
  },
  {
   "cell_type": "markdown",
   "metadata": {},
   "source": [
    "### オンセット時刻を求める"
   ]
  },
  {
   "cell_type": "code",
   "execution_count": null,
   "metadata": {
    "colab": {
     "base_uri": "https://localhost:8080/"
    },
    "executionInfo": {
     "elapsed": 256,
     "status": "ok",
     "timestamp": 1737521896308,
     "user": {
      "displayName": "月東菜乃",
      "userId": "13908269299968527045"
     },
     "user_tz": -540
    },
    "id": "X6ZFKVliDmZC",
    "outputId": "40f67297-1895-4789-b757-6570759bc086"
   },
   "outputs": [],
   "source": [
    "onset_samples = librosa.onset.onset_detect(\n",
    "    y=x,\n",
    "    sr=sr,\n",
    "    units=\"samples\",\n",
    "    backtrack=False,\n",
    "    pre_max=20,\n",
    "    post_max=20,\n",
    "    pre_avg=100,\n",
    "    post_avg=100,\n",
    "    delta=0.2,\n",
    "    wait=0,\n",
    ")\n",
    "print(onset_samples)"
   ]
  },
  {
   "cell_type": "code",
   "execution_count": null,
   "metadata": {
    "colab": {
     "base_uri": "https://localhost:8080/"
    },
    "executionInfo": {
     "elapsed": 320,
     "status": "ok",
     "timestamp": 1737521898111,
     "user": {
      "displayName": "月東菜乃",
      "userId": "13908269299968527045"
     },
     "user_tz": -540
    },
    "id": "Dc1cuGkYEP7v",
    "outputId": "1363174e-5d51-4555-dc02-13d16c89bca8"
   },
   "outputs": [],
   "source": [
    "onset_boundaries = np.concatenate([[0], onset_samples, [len(x)]])\n",
    "onset_times = librosa.samples_to_time(onset_boundaries, sr=sr)\n",
    "print(onset_times)"
   ]
  },
  {
   "cell_type": "markdown",
   "metadata": {},
   "source": [
    "### 音声波形にオンセット位置を表示"
   ]
  },
  {
   "cell_type": "code",
   "execution_count": null,
   "metadata": {
    "colab": {
     "base_uri": "https://localhost:8080/",
     "height": 449
    },
    "executionInfo": {
     "elapsed": 1041,
     "status": "ok",
     "timestamp": 1737521920602,
     "user": {
      "displayName": "月東菜乃",
      "userId": "13908269299968527045"
     },
     "user_tz": -540
    },
    "id": "PXC6IHWtFCSd",
    "outputId": "bb8bc927-2b02-4eb6-b607-d8f97e14ba2e"
   },
   "outputs": [],
   "source": [
    "librosa.display.waveshow(x)\n",
    "plt.vlines(onset_times, -1, 1, color=\"r\")\n",
    "plt.show()"
   ]
  },
  {
   "cell_type": "code",
   "execution_count": 2,
   "metadata": {
    "id": "8l5mZpjOFiOw"
   },
   "outputs": [],
   "source": [
    "def estimate_pitch(segment, sr, fmin=50.0, fmax=1000.0):\n",
    "    r = librosa.autocorrelate(segment)\n",
    "    i_min = sr / fmax\n",
    "    i_max = sr / fmin\n",
    "    r[: int(i_min)] = 0\n",
    "    r[int(i_max) :] = 0\n",
    "    i = r.argmax()\n",
    "    f0 = float(sr) / i\n",
    "    return f0\n",
    "\n",
    "\n",
    "def generate_sine(f0, sr, n_duration):\n",
    "    n = np.arange(n_duration)\n",
    "    return 0.2 * np.sin(2 * np.pi * f0 * n / float(sr))"
   ]
  },
  {
   "cell_type": "code",
   "execution_count": 3,
   "metadata": {
    "id": "4cSCGtdNHv6Q"
   },
   "outputs": [],
   "source": [
    "def estimate_pitch_and_generate_sine(x, onset_samples, i, sr):\n",
    "    n0 = onset_samples[i]\n",
    "    n1 = onset_samples[i + 1]\n",
    "    f0 = estimate_pitch(x[n0:n1], sr)\n",
    "    return generate_sine(f0, sr, n1 - n0)"
   ]
  },
  {
   "cell_type": "code",
   "execution_count": null,
   "metadata": {
    "colab": {
     "base_uri": "https://localhost:8080/",
     "height": 449
    },
    "executionInfo": {
     "elapsed": 773,
     "status": "ok",
     "timestamp": 1736142442957,
     "user": {
      "displayName": "月東菜乃",
      "userId": "13908269299968527045"
     },
     "user_tz": -540
    },
    "id": "6zcss40WIaGX",
    "outputId": "b8ac55c9-630a-45a1-cdf1-c0aee6ce8ba8"
   },
   "outputs": [],
   "source": [
    "y = np.concatenate(\n",
    "    [\n",
    "        estimate_pitch_and_generate_sine(x, onset_boundaries, i, sr)\n",
    "        for i in range(len(onset_boundaries) - 1)\n",
    "    ]\n",
    ")\n",
    "sf.write(\"piano_sample_gen.wav\", y, sr, \"PCM_24\", endian=\"LITTLE\")\n",
    "Y = librosa.stft(y)\n",
    "Ydb = librosa.amplitude_to_db(abs(Y))\n",
    "librosa.display.specshow(Ydb, sr=sr, x_axis=\"time\", y_axis=\"hz\", cmap=\"coolwarm\")\n",
    "plt.show()"
   ]
  }
 ],
 "metadata": {
  "colab": {
   "authorship_tag": "ABX9TyMpSpKjAS+spr5R6LGXQ8vp",
   "provenance": []
  },
  "kernelspec": {
   "display_name": "mir",
   "language": "python",
   "name": "pyproject"
  },
  "language_info": {
   "codemirror_mode": {
    "name": "ipython",
    "version": 3
   },
   "file_extension": ".py",
   "mimetype": "text/x-python",
   "name": "python",
   "nbconvert_exporter": "python",
   "pygments_lexer": "ipython3",
   "version": "3.10.12"
  }
 },
 "nbformat": 4,
 "nbformat_minor": 0
}
